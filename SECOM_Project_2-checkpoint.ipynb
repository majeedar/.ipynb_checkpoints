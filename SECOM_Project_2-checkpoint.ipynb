{
 "cells": [
  {
   "cell_type": "markdown",
   "id": "fc43b761",
   "metadata": {},
   "source": [
    "# Install required libraries "
   ]
  },
  {
   "cell_type": "code",
   "execution_count": 1,
   "id": "03b140fe",
   "metadata": {},
   "outputs": [
    {
     "ename": "SyntaxError",
     "evalue": "invalid syntax (1930665523.py, line 1)",
     "output_type": "error",
     "traceback": [
      "\u001b[1;36m  Cell \u001b[1;32mIn[1], line 1\u001b[1;36m\u001b[0m\n\u001b[1;33m    pip install numpy\u001b[0m\n\u001b[1;37m        ^\u001b[0m\n\u001b[1;31mSyntaxError\u001b[0m\u001b[1;31m:\u001b[0m invalid syntax\n"
     ]
    }
   ],
   "source": [
    "pip install numpy\n",
    "pip install pandas\n",
    "pip install requests\n",
    "pip install zipfile\n",
    "pip install io"
   ]
  },
  {
   "cell_type": "code",
   "execution_count": null,
   "id": "43a2e69a-926e-426f-b91d-1fed666dc9ff",
   "metadata": {},
   "outputs": [],
   "source": [
    "import numpy as np\n",
    "import pandas as pd\n",
    "import requests\n",
    "import zipfile\n",
    "from io import BytesIO"
   ]
  },
  {
   "cell_type": "code",
   "execution_count": null,
   "id": "e2f76181-4b97-4daa-822e-751e0c49f719",
   "metadata": {},
   "outputs": [],
   "source": [
    "# crete URL of the zip file"
   ]
  },
  {
   "cell_type": "code",
   "execution_count": null,
   "id": "f9e00055",
   "metadata": {},
   "outputs": [],
   "source": []
  },
  {
   "cell_type": "code",
   "execution_count": null,
   "id": "40733590-fa15-4443-bd32-643dce8cf3d7",
   "metadata": {},
   "outputs": [],
   "source": [
    "secom_zip_url = \"https://archive.ics.uci.edu/static/public/179/secom.zip\""
   ]
  },
  {
   "cell_type": "code",
   "execution_count": null,
   "id": "a024de0d-9593-4649-8e17-7c85a84a6a35",
   "metadata": {},
   "outputs": [],
   "source": [
    "# download the zipfile using request library"
   ]
  },
  {
   "cell_type": "code",
   "execution_count": null,
   "id": "856ac286-8ca9-438f-923d-5506aad8c2bc",
   "metadata": {},
   "outputs": [],
   "source": [
    "secom_zip_file = requests.get(secom_zip_url)"
   ]
  },
  {
   "cell_type": "code",
   "execution_count": null,
   "id": "3ece53e7-1d1a-460d-bebc-e564b6999e96",
   "metadata": {},
   "outputs": [],
   "source": [
    " # List the files in the zip file"
   ]
  },
  {
   "cell_type": "code",
   "execution_count": null,
   "id": "9c392680-0f8c-4a7b-b660-665a438aa7b5",
   "metadata": {},
   "outputs": [],
   "source": [
    "secom_files =  zipfile.ZipFile(BytesIO(secom_zip_file.content), 'r')"
   ]
  },
  {
   "cell_type": "code",
   "execution_count": null,
   "id": "4843495f-4603-4b3b-b441-4531e4ea4218",
   "metadata": {},
   "outputs": [
    {
     "name": "stdout",
     "output_type": "stream",
     "text": [
      "['secom.data', 'secom.names', 'secom_labels.data']\n"
     ]
    }
   ],
   "source": [
    "secom_files_names =  (zipfile.ZipFile(BytesIO(secom_zip_file.content))).namelist()\n",
    "print(secom_files_names)"
   ]
  },
  {
   "cell_type": "code",
   "execution_count": null,
   "id": "ea31b4fb-cecd-4f16-8136-ff1090e43133",
   "metadata": {},
   "outputs": [],
   "source": [
    "f_file = secom_files.open('secom.data')\n",
    "l_file = secom_files.open('secom_labels.data')"
   ]
  },
  {
   "cell_type": "code",
   "execution_count": null,
   "id": "17410d0e-7217-4e08-b8d3-8d6ab4ecc539",
   "metadata": {},
   "outputs": [
    {
     "name": "stdout",
     "output_type": "stream",
     "text": [
      "Dimensions of Labels data:  (1567, 2)\n",
      "   classifications            date_time\n",
      "0               -1  19/07/2008 11:55:00\n",
      "1               -1  19/07/2008 12:32:00\n",
      "2                1  19/07/2008 13:17:00\n",
      "3               -1  19/07/2008 14:43:00\n",
      "4               -1  19/07/2008 15:22:00\n",
      "     classifications            date_time\n",
      "800               -1  12/09/2008 06:38:00\n",
      "801               -1  12/09/2008 06:41:00\n",
      "802               -1  12/09/2008 06:45:00\n",
      "803               -1  12/09/2008 07:21:00\n",
      "804               -1  12/09/2008 07:29:00\n",
      "      classifications            date_time\n",
      "1560               -1  16/10/2008 05:58:00\n",
      "1561               -1  16/10/2008 15:02:00\n",
      "1562               -1  16/10/2008 15:13:00\n",
      "1563               -1  16/10/2008 20:49:00\n",
      "1564               -1  17/10/2008 05:26:00\n"
     ]
    }
   ],
   "source": [
    "#Create  column names and pandas dataframes for labels data\n",
    "\n",
    "l_column_names=['classifications', 'date_time'] # create column labels\n",
    "\n",
    "secom_labels_df = pd.read_csv(l_file, sep=r'\\s+', header=None, names= l_column_names)\n",
    "\n",
    "print(f\"Dimensions of Labels data: \", secom_labels_df.shape)\n",
    "\n",
    "# Confirm if Timestamps are in ascending order\n",
    "print(secom_labels_df.head())\n",
    "print(secom_labels_df.iloc[800:806, :].head())\n",
    "print(secom_labels_df.iloc[1560:1566, :].head())"
   ]
  },
  {
   "cell_type": "code",
   "execution_count": null,
   "id": "4b210cbd-ac72-468d-bdc7-1fa7d1c5f21f",
   "metadata": {},
   "outputs": [],
   "source": [
    "#secom_features"
   ]
  },
  {
   "cell_type": "code",
   "execution_count": null,
   "id": "5db3bdc8-8b56-4254-a2cc-d40b7f70f546",
   "metadata": {},
   "outputs": [
    {
     "name": "stdout",
     "output_type": "stream",
     "text": [
      "Dimensions of Features' data:  (1567, 591)\n",
      "   feature 1  feature 2  feature 3  feature 4  feature 5  feature 6  \\\n",
      "0    3030.93    2564.00  2187.7333  1411.1265     1.3602      100.0   \n",
      "1    3095.78    2465.14  2230.4222  1463.6606     0.8294      100.0   \n",
      "2    2932.61    2559.94  2186.4111  1698.0172     1.5102      100.0   \n",
      "3    2988.72    2479.90  2199.0333   909.7926     1.3204      100.0   \n",
      "4    3032.24    2502.87  2233.3667  1326.5200     1.5334      100.0   \n",
      "\n",
      "   feature 7  feature 8  feature 9  feature 10  ...  feature 582  feature 583  \\\n",
      "0    97.6133     0.1242     1.5005      0.0162  ...          NaN       0.5005   \n",
      "1   102.3433     0.1247     1.4966     -0.0005  ...     208.2045       0.5019   \n",
      "2    95.4878     0.1241     1.4436      0.0041  ...      82.8602       0.4958   \n",
      "3   104.2367     0.1217     1.4882     -0.0124  ...      73.8432       0.4990   \n",
      "4   100.3967     0.1235     1.5031     -0.0031  ...          NaN       0.4800   \n",
      "\n",
      "   feature 584  feature 585  feature 586  feature 587  feature 588  \\\n",
      "0       0.0118       0.0035       2.3630          NaN          NaN   \n",
      "1       0.0223       0.0055       4.4447       0.0096       0.0201   \n",
      "2       0.0157       0.0039       3.1745       0.0584       0.0484   \n",
      "3       0.0103       0.0025       2.0544       0.0202       0.0149   \n",
      "4       0.4766       0.1045      99.3032       0.0202       0.0149   \n",
      "\n",
      "   feature 589  feature 590  feature 591  \n",
      "0          NaN          NaN          NaN  \n",
      "1       0.0060     208.2045          NaN  \n",
      "2       0.0148      82.8602          NaN  \n",
      "3       0.0044      73.8432          NaN  \n",
      "4       0.0044      73.8432          NaN  \n",
      "\n",
      "[5 rows x 591 columns]\n"
     ]
    }
   ],
   "source": [
    "#Create column names pandas dataframes features data\n",
    "\n",
    "f_column_names = [f\"feature {i}\" for i in range(1, 592)]\n",
    "\n",
    "secom_features_df = pd.read_csv(f_file, sep=r'\\s+', header=None, names= f_column_names)\n",
    "print(f\"Dimensions of Features' data: \", secom_features_df.shape)\n",
    "\n",
    "print(secom_features_df.head())"
   ]
  },
  {
   "cell_type": "code",
   "execution_count": null,
   "id": "72411ae8-78e6-4f50-8ec0-7ff9fee201c1",
   "metadata": {},
   "outputs": [
    {
     "name": "stdout",
     "output_type": "stream",
     "text": [
      "Dimensions of merged data:  (1567, 593)\n",
      "   classifications            date_time  feature 1  feature 2  feature 3  \\\n",
      "0               -1  19/07/2008 11:55:00    3030.93    2564.00  2187.7333   \n",
      "1               -1  19/07/2008 12:32:00    3095.78    2465.14  2230.4222   \n",
      "2                1  19/07/2008 13:17:00    2932.61    2559.94  2186.4111   \n",
      "3               -1  19/07/2008 14:43:00    2988.72    2479.90  2199.0333   \n",
      "4               -1  19/07/2008 15:22:00    3032.24    2502.87  2233.3667   \n",
      "\n",
      "   feature 4  feature 5  feature 6  feature 7  feature 8  ...  feature 582  \\\n",
      "0  1411.1265     1.3602      100.0    97.6133     0.1242  ...          NaN   \n",
      "1  1463.6606     0.8294      100.0   102.3433     0.1247  ...     208.2045   \n",
      "2  1698.0172     1.5102      100.0    95.4878     0.1241  ...      82.8602   \n",
      "3   909.7926     1.3204      100.0   104.2367     0.1217  ...      73.8432   \n",
      "4  1326.5200     1.5334      100.0   100.3967     0.1235  ...          NaN   \n",
      "\n",
      "   feature 583  feature 584  feature 585  feature 586  feature 587  \\\n",
      "0       0.5005       0.0118       0.0035       2.3630          NaN   \n",
      "1       0.5019       0.0223       0.0055       4.4447       0.0096   \n",
      "2       0.4958       0.0157       0.0039       3.1745       0.0584   \n",
      "3       0.4990       0.0103       0.0025       2.0544       0.0202   \n",
      "4       0.4800       0.4766       0.1045      99.3032       0.0202   \n",
      "\n",
      "   feature 588  feature 589  feature 590  feature 591  \n",
      "0          NaN          NaN          NaN          NaN  \n",
      "1       0.0201       0.0060     208.2045          NaN  \n",
      "2       0.0484       0.0148      82.8602          NaN  \n",
      "3       0.0149       0.0044      73.8432          NaN  \n",
      "4       0.0149       0.0044      73.8432          NaN  \n",
      "\n",
      "[5 rows x 593 columns]\n"
     ]
    }
   ],
   "source": [
    "# Merge the Features and Labels data frames\n",
    "secom_merged_df = pd.merge(secom_labels_df, secom_features_df, left_index=True, right_index=True)\n",
    "\n",
    "print(f\"Dimensions of merged data: \", secom_merged_df.shape)\n",
    "\n",
    "print(secom_merged_df.head())"
   ]
  },
  {
   "cell_type": "code",
   "execution_count": null,
   "id": "fd280fe3-f7f1-445a-863f-502ec2cbb515",
   "metadata": {},
   "outputs": [],
   "source": []
  }
 ],
 "metadata": {
  "kernelspec": {
   "display_name": "Python 3 (ipykernel)",
   "language": "python",
   "name": "python3"
  },
  "language_info": {
   "codemirror_mode": {
    "name": "ipython",
    "version": 3
   },
   "file_extension": ".py",
   "mimetype": "text/x-python",
   "name": "python",
   "nbconvert_exporter": "python",
   "pygments_lexer": "ipython3",
   "version": "3.12.0"
  }
 },
 "nbformat": 4,
 "nbformat_minor": 5
}
